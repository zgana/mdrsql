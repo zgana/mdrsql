{
 "cells": [
  {
   "cell_type": "markdown",
   "id": "cb73709d-bf82-4a21-ac82-1da049b54be6",
   "metadata": {
    "tags": []
   },
   "source": [
    "# Introduction"
   ]
  },
  {
   "cell_type": "markdown",
   "id": "c634b82e-1c64-428a-a8ca-a50b99e9d226",
   "metadata": {},
   "source": [
    "## Overview"
   ]
  },
  {
   "cell_type": "markdown",
   "id": "958431ce-1e45-46fb-8125-6f0071d1a03d",
   "metadata": {},
   "source": [
    "In this course, we aim to become comfortable with SQL `SELECT` queries of the form:"
   ]
  },
  {
   "cell_type": "markdown",
   "id": "f5a7be09-af4e-4dd2-b1ac-f91a22157af6",
   "metadata": {},
   "source": [
    "```sql\n",
    "SELECT [ ALL | DISTINCT ]\n",
    "    * | <expression> [ [ AS ] <alias> ] [ , ... ]\n",
    "    [ FROM <from> [ , ... ] ]\n",
    "    [ WHERE <filter-condition> ]\n",
    "    [ GROUP BY <group-by> ]\n",
    "    [ HAVING <having-condition> ]\n",
    "    [ UNION [ ALL | DISTINCT ] <select> ]\n",
    "    [ ORDER BY <order-by> [ ASC | DESC ] [ , ... ] ]\n",
    "    [ LIMIT <end> ]\n",
    "    [ OFFSET <start> ]\n",
    "```"
   ]
  },
  {
   "cell_type": "markdown",
   "id": "11c47d9a-8b9c-4fa2-9e2a-913d2320e3bf",
   "metadata": {},
   "source": [
    "Some SQL courses drill this syntax without approaching realistic usage.  We want to go beyond one-step exercises — mechanical translations from English to SQL.  We will try to simulate the sort of iterative analysis and data wrangling that is commonplace in real life data science.\n",
    "\n",
    "Our primary data source will be public data from [Inside Airbnb](http://insideairbnb.com/get-the-data).\n",
    "\n",
    "Our SQL implementation will be [dask-sql](https://dask-sql.readthedocs.io/en/latest/index.html)."
   ]
  },
  {
   "cell_type": "markdown",
   "id": "0a457908-c964-46e3-81ec-37c5a7cbf3e9",
   "metadata": {},
   "source": [
    "## Software"
   ]
  },
  {
   "cell_type": "markdown",
   "id": "8f04225b-5011-4b0e-8d90-94ad601ba878",
   "metadata": {},
   "source": [
    "dask-sql requires java with version >= 8.  Confirm your java installation by running:\n",
    "\n",
    "```sh\n",
    "java -version\n",
    "```\n",
    "\n",
    "Now we can install our database-like server in a new virtual environment.  Navigate to the root of this repository — the directory containing `requirements-sql.txt`.  Run the following commands:\n",
    "\n",
    "```sh\n",
    "python3 -m venv .venv\n",
    "source .venv/bin/activate\n",
    "pip install --upgrade pip setuptools wheel\n",
    "pip install -r ./requirements-sql.txt\n",
    "```\n",
    "\n",
    "For working through the chapter notebooks and conducting your own analysis, any Jupyter Lab setup will suffice.  In my local setup, I have a user-global jupyter:\n",
    "\n",
    "```sh\n",
    "pip install --user jupyterlab\n",
    "```\n",
    "\n",
    "with the following extras:\n",
    "\n",
    "```sh\n",
    "pip install SQLAlchemy PyHive ipython-sql jupyterlab-lsp 'python-lsp-server[all]'\n",
    "jupyter server extension enable --user --py jupyter_lsp\n",
    "\n",
    "# in dir where jupyter will run (for me, $HOME)\n",
    "jlpm add --dev sql-language-server\n",
    "```\n"
   ]
  },
  {
   "cell_type": "markdown",
   "id": "05b4a719-9a88-4b27-a95e-1eedbf35961b",
   "metadata": {},
   "source": [
    "## Data"
   ]
  },
  {
   "cell_type": "markdown",
   "id": "b05313fd-6857-4020-8c8b-5572ca8f6e92",
   "metadata": {},
   "source": [
    "This repository includes a script for downloading data from Inside Airbnb.  Navigate to their [get the data](http://insideairbnb.com/get-the-data) page and mouse over the `listing.csv.gz` links under various cities.  Notice the URLs.  For example:\n",
    "\n",
    "* Amsterdam: <br/> <http://data.insideairbnb.com/the-netherlands/north-holland/amsterdam/2022-06-05/data/listings.csv.gz>\n",
    "* Paris: <br/> <http://data.insideairbnb.com/france/ile-de-france/paris/2022-06-06/data/listings.csv.gz>\n",
    "* New York City: <br/> <http://data.insideairbnb.com/united-states/ny/new-york-city/2022-06-03/data/listings.csv.gz>\n",
    "\n",
    "Our download script supports any data locations of the form `country/state/city/date`.  For example, to fetch data from these three cities, we can use the command:\n",
    "\n",
    "```sh\n",
    "# make sure the virtualenv is activated:\n",
    "# source .venv/bin/activate\n",
    "\n",
    "./scripts/fetch_airbnb.py \\\n",
    "    the-netherlands/north-holland/amsterdam/2022-06-05 \\\n",
    "    france/ile-de-france/paris/2022-06-06 \\\n",
    "    united-states/ny/new-york-city/2022-06-03\n",
    "```\n",
    "\n",
    "There's no shame in working with exactly the same data as the author, but by all means feel free to make it fun and change it up!"
   ]
  },
  {
   "cell_type": "markdown",
   "id": "6ca4c60d-02dc-4f7d-a24e-ae0c95a3250d",
   "metadata": {},
   "source": [
    "## Query engine server"
   ]
  },
  {
   "cell_type": "markdown",
   "id": "4c318c97-1b62-4faa-bc0d-bd090eaf9222",
   "metadata": {},
   "source": [
    "Once we have some data and all the relevant tooling in place, we can start our server:\n",
    "\n",
    "```sh\n",
    "# make sure the virtualenv is activated:\n",
    "# source .venv/bin/activate\n",
    "\n",
    "./scripts/serve_airbnb.py\n",
    "```\n",
    "\n",
    "This sets up a server on port 8080 by default (port is configurable by `--port`)."
   ]
  },
  {
   "cell_type": "markdown",
   "id": "dc3e4021-f655-430a-9af1-bbe53edd5131",
   "metadata": {},
   "source": [
    "We have a number of options for connecting to this server.  In plain Python, we can connect with [SQLAlchemy](https://www.sqlalchemy.org/) and [Pandas](https://pandas.pydata.org/):"
   ]
  },
  {
   "cell_type": "code",
   "execution_count": 1,
   "id": "2754c057-cf58-4fc3-b930-44ce832b0583",
   "metadata": {},
   "outputs": [],
   "source": [
    "import pandas as pd\n",
    "from sqlalchemy import create_engine"
   ]
  },
  {
   "cell_type": "code",
   "execution_count": 2,
   "id": "5356f812-945a-42c6-b183-64ca9adf05d7",
   "metadata": {},
   "outputs": [],
   "source": [
    "conn = create_engine('presto://localhost:8080/')\n",
    "QUERY = lambda q, *a, **kw: pd.read_sql_query(q, conn, *a, **kw)"
   ]
  },
  {
   "cell_type": "code",
   "execution_count": 3,
   "id": "dc67c051-63c9-4733-9809-f0e564669f12",
   "metadata": {},
   "outputs": [
    {
     "data": {
      "text/html": [
       "<div>\n",
       "<style scoped>\n",
       "    .dataframe tbody tr th:only-of-type {\n",
       "        vertical-align: middle;\n",
       "    }\n",
       "\n",
       "    .dataframe tbody tr th {\n",
       "        vertical-align: top;\n",
       "    }\n",
       "\n",
       "    .dataframe thead th {\n",
       "        text-align: right;\n",
       "    }\n",
       "</style>\n",
       "<table border=\"1\" class=\"dataframe\">\n",
       "  <thead>\n",
       "    <tr style=\"text-align: right;\">\n",
       "      <th></th>\n",
       "      <th>Table</th>\n",
       "    </tr>\n",
       "  </thead>\n",
       "  <tbody>\n",
       "    <tr>\n",
       "      <th>0</th>\n",
       "      <td>hosts</td>\n",
       "    </tr>\n",
       "    <tr>\n",
       "      <th>1</th>\n",
       "      <td>calendar</td>\n",
       "    </tr>\n",
       "    <tr>\n",
       "      <th>2</th>\n",
       "      <td>listings</td>\n",
       "    </tr>\n",
       "    <tr>\n",
       "      <th>3</th>\n",
       "      <td>reviews</td>\n",
       "    </tr>\n",
       "  </tbody>\n",
       "</table>\n",
       "</div>"
      ],
      "text/plain": [
       "      Table\n",
       "0     hosts\n",
       "1  calendar\n",
       "2  listings\n",
       "3   reviews"
      ]
     },
     "execution_count": 3,
     "metadata": {},
     "output_type": "execute_result"
    }
   ],
   "source": [
    "QUERY(\"\"\"\n",
    "show tables\n",
    "\"\"\")"
   ]
  },
  {
   "cell_type": "markdown",
   "id": "999cb7f2-cb56-4288-a6a1-fd01f23baa15",
   "metadata": {},
   "source": [
    "Throughout this course, we will rely primarily on the `%%sql` magic:"
   ]
  },
  {
   "cell_type": "code",
   "execution_count": 4,
   "id": "15b8dacf-6a6b-4d32-93e0-afb2dfe9528d",
   "metadata": {},
   "outputs": [],
   "source": [
    "import pandas as pd\n",
    "import pyhive.sqlalchemy_presto\n",
    "\n",
    "# always show every column\n",
    "pd.set_option('display.max_columns', None)\n",
    "# suppress a SQLAlchemy warning\n",
    "pyhive.sqlalchemy_presto.PrestoDialect.supports_statement_cache = False\n",
    "\n",
    "# load and configure SQL extension\n",
    "%load_ext sql\n",
    "%config SqlMagic.autocommit = False\n",
    "%config SqlMagic.displaycon = False\n",
    "%config SqlMagic.autopandas = True\n",
    "%config SqlMagic.feedback = False\n",
    "\n",
    "# connect\n",
    "%sql presto://localhost:8080/"
   ]
  },
  {
   "cell_type": "code",
   "execution_count": 5,
   "id": "ef45ccde-546e-4a44-8e3a-b7236966b753",
   "metadata": {},
   "outputs": [
    {
     "data": {
      "text/html": [
       "<div>\n",
       "<style scoped>\n",
       "    .dataframe tbody tr th:only-of-type {\n",
       "        vertical-align: middle;\n",
       "    }\n",
       "\n",
       "    .dataframe tbody tr th {\n",
       "        vertical-align: top;\n",
       "    }\n",
       "\n",
       "    .dataframe thead th {\n",
       "        text-align: right;\n",
       "    }\n",
       "</style>\n",
       "<table border=\"1\" class=\"dataframe\">\n",
       "  <thead>\n",
       "    <tr style=\"text-align: right;\">\n",
       "      <th></th>\n",
       "      <th>Table</th>\n",
       "    </tr>\n",
       "  </thead>\n",
       "  <tbody>\n",
       "    <tr>\n",
       "      <th>0</th>\n",
       "      <td>hosts</td>\n",
       "    </tr>\n",
       "    <tr>\n",
       "      <th>1</th>\n",
       "      <td>calendar</td>\n",
       "    </tr>\n",
       "    <tr>\n",
       "      <th>2</th>\n",
       "      <td>listings</td>\n",
       "    </tr>\n",
       "    <tr>\n",
       "      <th>3</th>\n",
       "      <td>reviews</td>\n",
       "    </tr>\n",
       "  </tbody>\n",
       "</table>\n",
       "</div>"
      ],
      "text/plain": [
       "      Table\n",
       "0     hosts\n",
       "1  calendar\n",
       "2  listings\n",
       "3   reviews"
      ]
     },
     "execution_count": 5,
     "metadata": {},
     "output_type": "execute_result"
    }
   ],
   "source": [
    "%%sql\n",
    "\n",
    "show tables"
   ]
  },
  {
   "cell_type": "markdown",
   "id": "f3e4c6f2-4d42-4b2a-b753-95c937dfe57d",
   "metadata": {},
   "source": [
    "You can also configure any other SQL-capable tools to query the local dask-sql server.  For example, Visual Studio Code can run queries using the [SQLTools](https://marketplace.visualstudio.com/items?itemName=mtxr.sqltools) and [Trino Driver](https://marketplace.visualstudio.com/items?itemName=mtxr.sqltools) plugins:"
   ]
  },
  {
   "cell_type": "markdown",
   "id": "c3734427-05fd-40f0-babf-7da48e65ba8a",
   "metadata": {},
   "source": [
    "<center>\n",
    "    <img src=\"_assets/00-vscode-presto-config.png\" width=600/>\n",
    "</center>"
   ]
  },
  {
   "cell_type": "markdown",
   "id": "580742ea-19b0-47d8-afdc-bf8f8e53a8f2",
   "metadata": {},
   "source": [
    "<center>\n",
    "    <img src=\"_assets/00-vscode-presto-query.png\" width=600 />\n",
    "</center>"
   ]
  },
  {
   "cell_type": "markdown",
   "id": "6df483e0-ccb0-4df1-9b02-de5e28f8f3c7",
   "metadata": {},
   "source": [
    "## Code style"
   ]
  },
  {
   "cell_type": "markdown",
   "id": "0e231378-74f5-45ee-9b6a-008685328f92",
   "metadata": {},
   "source": [
    "A colleague of mine recently told me something to the effect of, \"code style is the most boring f\\*\\*\\*ing thing in the world and I never want to think or talk about it ever again.\"  With that in mind, I'll try to keep this brief.\n",
    "\n",
    "SQL is mostly case-insensitive, especially for its reserved keywords.  It is extremely common to find SQL code formatted with all reserved keywords in uppercase.  This was typical in many older languages — computers didn't always have universal support for lowercase letters!  But it can be argued, as in [this stackoverflow response](https://stackoverflow.com/a/11944733/638083), that SQL has _so many_ keywords, and _so much_ variation across implementations/dialects, that manually uppercasing keywords remains a helpful cue from writer to reader.\n",
    "\n",
    "You may one day find yourself working as a professional data scientist, and you may find yourself on a team that requires following the uppercasing convention.  This course (and my current position) does not.\n",
    "\n",
    "Instead, we rely on syntax highlighting (despite its dialect-dependent shortcomings) and, more importantly, judicious use of indentation to clarify our intent."
   ]
  }
 ],
 "metadata": {
  "jupytext": {
   "formats": "ipynb,md,qmd"
  },
  "kernelspec": {
   "display_name": "Python 3 (ipykernel)",
   "language": "python",
   "name": "python3"
  },
  "language_info": {
   "codemirror_mode": {
    "name": "ipython",
    "version": 3
   },
   "file_extension": ".py",
   "mimetype": "text/x-python",
   "name": "python",
   "nbconvert_exporter": "python",
   "pygments_lexer": "ipython3",
   "version": "3.8.10"
  }
 },
 "nbformat": 4,
 "nbformat_minor": 5
}
